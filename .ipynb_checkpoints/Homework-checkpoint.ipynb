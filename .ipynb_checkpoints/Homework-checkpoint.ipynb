{
 "cells": [
  {
   "cell_type": "code",
   "execution_count": 1,
   "metadata": {},
   "outputs": [],
   "source": [
    "import os \n",
    "\n",
    "import pandas as pd\n",
    "path = os.path.join(os.getcwd(), 'names')\n",
    "dir_work = os.listdir(path)"
   ]
  },
  {
   "cell_type": "code",
   "execution_count": 73,
   "metadata": {},
   "outputs": [
    {
     "data": {
      "text/html": [
       "<div>\n",
       "<style scoped>\n",
       "    .dataframe tbody tr th:only-of-type {\n",
       "        vertical-align: middle;\n",
       "    }\n",
       "\n",
       "    .dataframe tbody tr th {\n",
       "        vertical-align: top;\n",
       "    }\n",
       "\n",
       "    .dataframe thead th {\n",
       "        text-align: right;\n",
       "    }\n",
       "</style>\n",
       "<table border=\"1\" class=\"dataframe\">\n",
       "  <thead>\n",
       "    <tr style=\"text-align: right;\">\n",
       "      <th></th>\n",
       "      <th>Name</th>\n",
       "      <th>Sex</th>\n",
       "      <th>Count</th>\n",
       "    </tr>\n",
       "  </thead>\n",
       "  <tbody>\n",
       "    <tr>\n",
       "      <th>17280</th>\n",
       "      <td>Jacob</td>\n",
       "      <td>M</td>\n",
       "      <td>94758</td>\n",
       "    </tr>\n",
       "    <tr>\n",
       "      <th>30196</th>\n",
       "      <td>Michael</td>\n",
       "      <td>M</td>\n",
       "      <td>90636</td>\n",
       "    </tr>\n",
       "    <tr>\n",
       "      <th>29412</th>\n",
       "      <td>Matthew</td>\n",
       "      <td>M</td>\n",
       "      <td>78448</td>\n",
       "    </tr>\n",
       "  </tbody>\n",
       "</table>\n",
       "</div>"
      ],
      "text/plain": [
       "          Name Sex  Count\n",
       "17280    Jacob   M  94758\n",
       "30196  Michael   M  90636\n",
       "29412  Matthew   M  78448"
      ]
     },
     "execution_count": 73,
     "metadata": {},
     "output_type": "execute_result"
    }
   ],
   "source": [
    "os.chdir(path)\n",
    "\n",
    "def count_top_3(x):\n",
    "    a = len(dir_work)\n",
    "    rez = pd.DataFrame()\n",
    "    columns = ['Name', 'Sex', 'Count']\n",
    "    for n in x:\n",
    "        for m in range(0, a):\n",
    "            if dir_work[m].find(str(n)) != -1:\n",
    "#                 print(dir_work[m])\n",
    "                fr = pd.read_csv(dir_work[m], names=columns)\n",
    "                rez = pd.concat([fr,rez])\n",
    "                rez = rez.groupby(['Name', 'Sex'], as_index=False).sum()\n",
    "                \n",
    "    rez = rez.sort_values(by=['Count'], axis=0, ascending=False)            \n",
    "    \n",
    "    return rez.head(3)\n",
    "                \n",
    "def count_dynamics(x):\n",
    "    a = len(dir_work)\n",
    "    rez = pd.DataFrame()\n",
    "    rez_cnt = {}\n",
    "    columns = ['Name', 'Sex', 'Count']\n",
    "    for n in x:\n",
    "        for m in range(0, a):\n",
    "            if dir_work[m].find(str(n)) != -1:\n",
    "                print(dir_work[m])\n",
    "                fr = pd.read_csv(dir_work[m], names=columns)\n",
    "                del fr['Name']\n",
    "                rez = fr\n",
    "                rez = rez.groupby(['Sex'], as_index=False).sum()\n",
    "                print(rez)\n",
    "\n",
    "\n",
    "count_top_3([2000,1998,2007])"
   ]
  },
  {
   "cell_type": "code",
   "execution_count": 71,
   "metadata": {},
   "outputs": [
    {
     "name": "stdout",
     "output_type": "stream",
     "text": [
      "yob2000.txt\n",
      "  Sex    Count\n",
      "0   F  1815110\n",
      "1   M  1962969\n",
      "yob1998.txt\n",
      "  Sex    Count\n",
      "0   F  1766358\n",
      "1   M  1910749\n",
      "yob2007.txt\n",
      "  Sex    Count\n",
      "0   F  1920619\n",
      "1   M  2073388\n"
     ]
    }
   ],
   "source": [
    "count_dynamics([2000,1998,2007])"
   ]
  },
  {
   "cell_type": "code",
   "execution_count": null,
   "metadata": {},
   "outputs": [],
   "source": []
  }
 ],
 "metadata": {
  "kernelspec": {
   "display_name": "Python 3",
   "language": "python",
   "name": "python3"
  },
  "language_info": {
   "codemirror_mode": {
    "name": "ipython",
    "version": 3
   },
   "file_extension": ".py",
   "mimetype": "text/x-python",
   "name": "python",
   "nbconvert_exporter": "python",
   "pygments_lexer": "ipython3",
   "version": "3.6.5"
  }
 },
 "nbformat": 4,
 "nbformat_minor": 2
}
